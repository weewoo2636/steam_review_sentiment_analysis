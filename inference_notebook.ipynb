{
 "cells": [
  {
   "cell_type": "markdown",
   "metadata": {},
   "source": [
    "**Import Libraries**"
   ]
  },
  {
   "cell_type": "code",
   "execution_count": 108,
   "metadata": {},
   "outputs": [],
   "source": [
    "# data manipulation\n",
    "import pandas as pd\n",
    "\n",
    "# feature engineering\n",
    "from nltk.tokenize import word_tokenize\n",
    "import re\n",
    "from nltk.corpus import stopwords\n",
    "from nltk.stem import WordNetLemmatizer\n",
    "\n",
    "# model definition & training\n",
    "import tensorflow as tf\n",
    "from tensorflow.keras.layers import TextVectorization\n",
    "\n",
    "# save model\n",
    "import pickle\n",
    "\n",
    "# ignore warning\n",
    "import warnings\n",
    "warnings.filterwarnings('ignore')\n",
    "\n",
    "# show all columns\n",
    "pd.set_option('display.max_columns', None)"
   ]
  },
  {
   "cell_type": "markdown",
   "metadata": {},
   "source": [
    "# **9. Model Inference**"
   ]
  },
  {
   "cell_type": "markdown",
   "metadata": {},
   "source": [
    "- This is the step where we test our 'exported' models with a data that they completely have not seen before "
   ]
  },
  {
   "cell_type": "markdown",
   "metadata": {},
   "source": [
    "## **9.1. Load Model and Other Files**"
   ]
  },
  {
   "cell_type": "code",
   "execution_count": 109,
   "metadata": {},
   "outputs": [],
   "source": [
    "vectorization_data = pickle.load(open('vectorizer.pkl', 'rb'))\n",
    "vectorizer = TextVectorization.from_config(vectorization_data['config'])\n",
    "vectorizer.set_weights(vectorization_data['weights'])\n",
    "\n",
    "model = tf.keras.models.load_model('model.h5')"
   ]
  },
  {
   "cell_type": "markdown",
   "metadata": {},
   "source": [
    "## **9.2. Create Dummy Data**"
   ]
  },
  {
   "cell_type": "markdown",
   "metadata": {},
   "source": [
    "- The dummy data contains data that the model completely has never seen before"
   ]
  },
  {
   "cell_type": "code",
   "execution_count": 110,
   "metadata": {},
   "outputs": [
    {
     "data": {
      "text/html": [
       "<div>\n",
       "<style scoped>\n",
       "    .dataframe tbody tr th:only-of-type {\n",
       "        vertical-align: middle;\n",
       "    }\n",
       "\n",
       "    .dataframe tbody tr th {\n",
       "        vertical-align: top;\n",
       "    }\n",
       "\n",
       "    .dataframe thead th {\n",
       "        text-align: right;\n",
       "    }\n",
       "</style>\n",
       "<table border=\"1\" class=\"dataframe\">\n",
       "  <thead>\n",
       "    <tr style=\"text-align: right;\">\n",
       "      <th></th>\n",
       "      <th>user_review</th>\n",
       "    </tr>\n",
       "  </thead>\n",
       "  <tbody>\n",
       "    <tr>\n",
       "      <th>0</th>\n",
       "      <td>this is a very boring game!</td>\n",
       "    </tr>\n",
       "  </tbody>\n",
       "</table>\n",
       "</div>"
      ],
      "text/plain": [
       "                   user_review\n",
       "0  this is a very boring game!"
      ]
     },
     "metadata": {},
     "output_type": "display_data"
    }
   ],
   "source": [
    "df_dummy = pd.DataFrame({\n",
    "    'user_review' : ['this is a very boring game!']\n",
    "})\n",
    "\n",
    "display(df_dummy)"
   ]
  },
  {
   "cell_type": "markdown",
   "metadata": {},
   "source": [
    "## **9.3. Preprocess Data**"
   ]
  },
  {
   "cell_type": "code",
   "execution_count": 111,
   "metadata": {},
   "outputs": [],
   "source": [
    "# define stopwords\n",
    "nltk_stopword = set(stopwords.words('english'))\n",
    "\n",
    "# define lemmatizer\n",
    "lemmatizer = WordNetLemmatizer()"
   ]
  },
  {
   "cell_type": "code",
   "execution_count": 112,
   "metadata": {},
   "outputs": [],
   "source": [
    "# create a function for text preprocessing\n",
    "\n",
    "def text_preprocessing(text):\n",
    "  # case folding\n",
    "  text = text.lower()\n",
    "\n",
    "  # mention removal\n",
    "  text = re.sub(\"@[a-za-z0-9_]+\", \" \", text)\n",
    "\n",
    "  # hashtags removal\n",
    "  text = re.sub(\"#[a-za-z0-9_]+\", \" \", text)\n",
    "\n",
    "  # newline removal (\\n)\n",
    "  text = re.sub(r\"\\\\n\", \" \",text)\n",
    "\n",
    "  # whitespace removal\n",
    "  text = text.strip()\n",
    "\n",
    "  # url removal\n",
    "  text = re.sub(r\"http\\s+\", \" \", text)\n",
    "  text = re.sub(r\"www.\\s+\", \" \", text)\n",
    "\n",
    "  # non-letter removal (such as emoticon, symbol (like μ, $, 兀), etc\n",
    "  text = re.sub(\"[^a-za-z\\s']\", \" \", text)\n",
    "  text = re.sub(\"'\", \"\", text)\n",
    "\n",
    "  # tokenization\n",
    "  tokens = word_tokenize(text)\n",
    "\n",
    "  # stopwords removal\n",
    "  tokens = [word for word in tokens if word not in nltk_stopword]\n",
    "\n",
    "  # lemmatizing\n",
    "  tokens = [lemmatizer.lemmatize(word) for word in tokens]\n",
    "\n",
    "  # combining tokens\n",
    "  text = ' '.join(tokens)\n",
    "\n",
    "  return text"
   ]
  },
  {
   "cell_type": "code",
   "execution_count": 113,
   "metadata": {},
   "outputs": [
    {
     "data": {
      "text/plain": [
       "0    boring game\n",
       "Name: user_review, dtype: object"
      ]
     },
     "execution_count": 113,
     "metadata": {},
     "output_type": "execute_result"
    }
   ],
   "source": [
    "data_preprocessed = df_dummy['user_review'].apply(lambda x: text_preprocessing(x))\n",
    "\n",
    "data_preprocessed"
   ]
  },
  {
   "cell_type": "markdown",
   "metadata": {},
   "source": [
    "## **9.4. Text Vectorization**"
   ]
  },
  {
   "cell_type": "code",
   "execution_count": 114,
   "metadata": {},
   "outputs": [],
   "source": [
    "data_vect = vectorizer(data_preprocessed)"
   ]
  },
  {
   "cell_type": "markdown",
   "metadata": {},
   "source": [
    "## **9.5. Predict Price**"
   ]
  },
  {
   "cell_type": "code",
   "execution_count": 115,
   "metadata": {},
   "outputs": [
    {
     "name": "stdout",
     "output_type": "stream",
     "text": [
      "1/1 [==============================] - 1s 1s/step\n",
      "predicted booking status proba: [0.3751136]\n",
      "predicted booking status: Not_Recommended\n"
     ]
    }
   ],
   "source": [
    "# predict user_suggestion\n",
    "predicted_user_suggestion_proba = model.predict(data_vect)\n",
    "\n",
    "# show result\n",
    "predict_result = ''\n",
    "threshold = 0.75\n",
    "if predicted_user_suggestion_proba[0] > threshold:\n",
    "    predict_result = 'Recommended'\n",
    "else:\n",
    "    predict_result = 'Not_Recommended'\n",
    "\n",
    "print(f\"predicted booking status proba: {predicted_user_suggestion_proba[0]}\")\n",
    "print(f\"predicted booking status: {predict_result}\")"
   ]
  }
 ],
 "metadata": {
  "kernelspec": {
   "display_name": "hck016",
   "language": "python",
   "name": "python3"
  },
  "language_info": {
   "codemirror_mode": {
    "name": "ipython",
    "version": 3
   },
   "file_extension": ".py",
   "mimetype": "text/x-python",
   "name": "python",
   "nbconvert_exporter": "python",
   "pygments_lexer": "ipython3",
   "version": "3.9.19"
  }
 },
 "nbformat": 4,
 "nbformat_minor": 2
}
